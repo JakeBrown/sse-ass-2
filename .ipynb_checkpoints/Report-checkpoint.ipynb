{
 "cells": [
  {
   "cell_type": "code",
   "execution_count": 1,
   "metadata": {},
   "outputs": [],
   "source": [
    "from pydriller.repository_mining import RepositoryMining\n",
    "from pydriller.domain.commit import ModificationType\n",
    "from pydriller.git_repository import GitRepository\n",
    "from pprint import pprint\n",
    "import numpy as np\n",
    "import pandas as pd\n",
    "import matplotlib.pyplot as plt\n",
    "import seaborn as sns"
   ]
  },
  {
   "cell_type": "code",
   "execution_count": 2,
   "metadata": {},
   "outputs": [],
   "source": [
    "# Convention is: hardcoded strings=uppercase, references to commit *objects* are camel_case\n",
    "REPO_PATH = \"~/gits/logging-log4j2\"\n",
    "FIXING_COMMIT = \"5dcc19215827db29c993d0305ee2b0d8dd05939d\"\n",
    "VCC_COMMIT = \"e2fcc90ef6749447b1eed5bd1defa76cd497d58a\""
   ]
  },
  {
   "cell_type": "code",
   "execution_count": 3,
   "metadata": {},
   "outputs": [],
   "source": [
    "initial_commit = next(RepositoryMining(REPO_PATH).traverse_commits())\n",
    "initial_commit_hash = initial_commit.hash \n",
    "fixing_commit = next(RepositoryMining(REPO_PATH, single=FIXING_COMMIT).traverse_commits())\n",
    "vcc_commit = next(RepositoryMining(REPO_PATH, single=VCC_COMMIT).traverse_commits())\n",
    "gr = GitRepository(REPO_PATH)"
   ]
  },
  {
   "cell_type": "markdown",
   "metadata": {},
   "source": [
    "# Q5\n",
    "\n",
    "## VCC commit info\n",
    "We start with Q5. Look at the commit information to list the author, plus lines added and removed."
   ]
  },
  {
   "cell_type": "code",
   "execution_count": 4,
   "metadata": {},
   "outputs": [
    {
     "name": "stdout",
     "output_type": "stream",
     "text": [
      "Author: Gary D. Gregory (ggregory@apache.org)\n",
      "SHA: e2fcc90ef6749447b1eed5bd1defa76cd497d58a\n",
      "Lines added: 58\n",
      "Lines removed: 11\n",
      "Files: ['log4j-core/src/main/java/org/apache/logging/log4j/core/net/AbstractLogEventInput.java', 'log4j-core/src/main/java/org/apache/logging/log4j/core/net/JSONLogEventInput.java', 'log4j-core/src/main/java/org/apache/logging/log4j/core/net/LogEventInput.java', 'log4j-core/src/main/java/org/apache/logging/log4j/core/net/SerializedLogEventInput.java', 'log4j-core/src/main/java/org/apache/logging/log4j/core/net/TCPSocketServer.java', 'log4j-core/src/main/java/org/apache/logging/log4j/core/net/XMLLogEventInput.java']\n",
      "Message:\n",
      "---\n",
      "[LOG4J2-583] TCP and UDP socket servers should be able to handle XML log events. Refactor current code for XML and JSON. Create stubs for XML and JSON implementations.\n",
      "\n",
      "git-svn-id: https://svn.apache.org/repos/asf/logging/log4j/log4j2/trunk@1582204 13f79535-47bb-0310-9956-ffa450edef68\n",
      "---\n",
      "\n"
     ]
    }
   ],
   "source": [
    "# Get the commit for the VCC\n",
    "c = next(RepositoryMining(REPO_PATH, single=VCC_COMMIT).traverse_commits())\n",
    "added = 0\n",
    "removed = 0\n",
    "files = []\n",
    "for m in c.modifications:\n",
    "    added += m.added\n",
    "    removed += m.removed\n",
    "    files.append(m.new_path)\n",
    "print(f\"Author: {c.author.name} ({c.author.email})\")\n",
    "print(f\"SHA: {c.hash}\")\n",
    "print(f\"Lines added: {added}\")\n",
    "print(f\"Lines removed: {removed}\")\n",
    "print(f\"Files: {files}\")\n",
    "print(f\"Message:\\n---\\n{c.msg}\\n---\\n\")"
   ]
  },
  {
   "cell_type": "markdown",
   "metadata": {},
   "source": [
    "## Number of directories affected in VCC"
   ]
  },
  {
   "cell_type": "code",
   "execution_count": 5,
   "metadata": {},
   "outputs": [
    {
     "name": "stdout",
     "output_type": "stream",
     "text": [
      "Directories: ['log4j-core/src/main/java/org/apache/logging/log4j/core/net/', 'log4j-core/src/main/java/org/apache/logging/log4j/core/net/', 'log4j-core/src/main/java/org/apache/logging/log4j/core/net/', 'log4j-core/src/main/java/org/apache/logging/log4j/core/net/', 'log4j-core/src/main/java/org/apache/logging/log4j/core/net/', 'log4j-core/src/main/java/org/apache/logging/log4j/core/net/']\n",
      "Num directories: 1\n"
     ]
    }
   ],
   "source": [
    "directories = [m.new_path.replace(m.filename, \"\") for m in c.modifications]\n",
    "num_directories = len(set(directories))\n",
    "print(f\"Directories: {directories}\")\n",
    "print(f\"Num directories: {num_directories}\")\n",
    "    "
   ]
  },
  {
   "cell_type": "markdown",
   "metadata": {},
   "source": [
    "## Filter out comments and whitespace"
   ]
  },
  {
   "cell_type": "markdown",
   "metadata": {},
   "source": [
    "First we try a rudimentary approach to filtering out comments which have been added.\n",
    "This approach looks for lines starting with `*` `/*` or `*/`. "
   ]
  },
  {
   "cell_type": "code",
   "execution_count": 6,
   "metadata": {},
   "outputs": [
    {
     "name": "stdout",
     "output_type": "stream",
     "text": [
      "Lines added: 22\n",
      "Lines deleted: 10\n"
     ]
    }
   ],
   "source": [
    "added = []\n",
    "deleted = []\n",
    "for modifications in c.modifications:\n",
    "    for m in modifications.diff_parsed[\"added\"]:\n",
    "        added.append(m)\n",
    "    for m in modifications.diff_parsed[\"deleted\"]:\n",
    "        deleted.append(m)\n",
    "        \n",
    "comment_starts = (\"*\", \"/*\", \"*/\")\n",
    "\n",
    "def is_comment(s):\n",
    "    line = s[1].strip()\n",
    "    if len(line)==0:\n",
    "        return True\n",
    "    if line.startswith(comment_starts):\n",
    "        return True\n",
    "    return False\n",
    "\n",
    "filtered_added = [c for c in added if not is_comment(c)]\n",
    "filtered_deleted = [c for c in deleted if not is_comment(c)]\n",
    "\n",
    "print(f\"Lines added: {len(filtered_added)}\")\n",
    "print(f\"Lines deleted: {len(filtered_deleted)}\")"
   ]
  },
  {
   "cell_type": "markdown",
   "metadata": {},
   "source": [
    "We see this gives the same result as our manual approach given in task 5. "
   ]
  },
  {
   "cell_type": "markdown",
   "metadata": {},
   "source": [
    "## More sophisticated approach"
   ]
  },
  {
   "cell_type": "markdown",
   "metadata": {},
   "source": [
    "We can try a more sophisticated approach using a python library called `comment_parser`. This can be found here: https://github.com/jeanralphaviles/comment_parser/ \n",
    "\n",
    "### Additions"
   ]
  },
  {
   "cell_type": "code",
   "execution_count": 19,
   "metadata": {},
   "outputs": [
    {
     "name": "stdout",
     "output_type": "stream",
     "text": [
      "22\n"
     ]
    }
   ],
   "source": [
    "import magic\n",
    "from comment_parser import comment_parser\n",
    "\n",
    "added = 0\n",
    "# Loop over each modification\n",
    "for modifications in vcc_commit.modifications:\n",
    "    # Look at the *after* code, and generate a list of which lines contain comments\n",
    "    after_comment_lines = []\n",
    "    comments = comment_parser.extract_comments_from_str(modifications.source_code)\n",
    "    for comment in comments:\n",
    "        line_no = comment.line_number()\n",
    "        num_lines = len(comment.text().splitlines())\n",
    "        for i in range(line_no, line_no+num_lines):\n",
    "            after_comment_lines.append(i)\n",
    "    # Compare this to the lines added. For each line added which is not a comment, increase our counter. \n",
    "    for m in modifications.diff_parsed[\"added\"]:\n",
    "        if m[0] in after_comment_lines:\n",
    "            pass\n",
    "        else:\n",
    "            if len(m[1])>0:\n",
    "                added +=1 \n",
    "# Print the result\n",
    "print(added)"
   ]
  },
  {
   "cell_type": "markdown",
   "metadata": {},
   "source": [
    "### Deletions\n",
    "\n",
    "We see this gives the same result as our manual approach given in task 5. Now apply the same approach for deletions."
   ]
  },
  {
   "cell_type": "code",
   "execution_count": 8,
   "metadata": {},
   "outputs": [
    {
     "name": "stdout",
     "output_type": "stream",
     "text": [
      "10\n"
     ]
    }
   ],
   "source": [
    "import magic\n",
    "from comment_parser import comment_parser\n",
    "\n",
    "deleted = 0\n",
    "# Loop over each modification\n",
    "for modifications in vcc_commit.modifications:\n",
    "    # Look at the *after* code, and generate a list of which lines contain comments\n",
    "    before_comment_lines = []\n",
    "    before = modifications.source_code_before\n",
    "    if before:\n",
    "        comments = comment_parser.extract_comments_from_str(before)\n",
    "        for comment in comments:\n",
    "            line_no = comment.line_number()\n",
    "            num_lines = len(comment.text().splitlines())\n",
    "            for i in range(line_no, line_no+num_lines):\n",
    "                before_comment_lines.append(i)\n",
    "        # Compare this to the lines added. For each line added which is not a comment, increase our counter. \n",
    "        for m in modifications.diff_parsed[\"deleted\"]:\n",
    "            if m[0] in before_comment_lines:\n",
    "                pass\n",
    "            else:\n",
    "                if len(m[1])>0:\n",
    "                    deleted +=1 \n",
    "# Print the result\n",
    "print(deleted)"
   ]
  },
  {
   "cell_type": "markdown",
   "metadata": {},
   "source": [
    "We could refactor this to enable better code reuse. We haven't done that here. "
   ]
  },
  {
   "cell_type": "markdown",
   "metadata": {},
   "source": [
    "## Days between VCC and previous commit"
   ]
  },
  {
   "cell_type": "code",
   "execution_count": 9,
   "metadata": {},
   "outputs": [
    {
     "name": "stdout",
     "output_type": "stream",
     "text": [
      "---\n",
      "2014-03-27 06:06:20+00:00\n",
      "[LOG4J2-583] TCP and UDP socket servers should be able to handle XML log events. Refactor current code for XML and JSON. Create stubs for XML and JSON implementations.\n",
      "\n",
      "git-svn-id: https://svn.apache.org/repos/asf/logging/log4j/log4j2/trunk@1582204 13f79535-47bb-0310-9956-ffa450edef68\n",
      "---\n",
      "\n",
      "---\n",
      "2014-03-27 05:43:45+00:00\n",
      "Add license header.\n",
      "\n",
      "git-svn-id: https://svn.apache.org/repos/asf/logging/log4j/log4j2/trunk@1582196 13f79535-47bb-0310-9956-ffa450edef68\n",
      "---\n",
      "\n"
     ]
    }
   ],
   "source": [
    "commits = RepositoryMining(REPO_PATH, to_commit=VCC_COMMIT, order=\"reverse\").traverse_commits()\n",
    "for index, commit in enumerate(commits):\n",
    "    if index>1:\n",
    "        break\n",
    "    print(\"---\")\n",
    "    print(commit.author_date)\n",
    "    print(commit.msg)\n",
    "    print(\"---\\n\")"
   ]
  },
  {
   "cell_type": "markdown",
   "metadata": {},
   "source": [
    "No need to parse these dates. They clearly occur on the same day. "
   ]
  },
  {
   "cell_type": "code",
   "execution_count": 10,
   "metadata": {},
   "outputs": [],
   "source": [
    "file_path = \"log4j-core/src/main/java/org/apache/logging/log4j/core/net/SerializedLogEventInput.java\"\n",
    "commits = RepositoryMining(REPO_PATH, to_commit=VCC_COMMIT, order=\"reverse\", filepath=file_path).traverse_commits()\n",
    "# Perform additional filtering to ensure no we only print commits containing the file_path. \n",
    "# The filepath parameter was certainly filtering out many commits, but was not guaranteed to only include the ones we were looking for. \n",
    "for index, commit in enumerate(commits):\n",
    "    in_path = False\n",
    "    for m in commit.modifications:\n",
    "        if m.new_path==file_path:\n",
    "            in_path = True\n",
    "    if in_path:\n",
    "        print(\"---\")\n",
    "        print(commit.author_date)\n",
    "        print(commit.author.name)\n",
    "        print(commit.author.email)\n",
    "        print(commit.msg)\n",
    "        print(f\"SHA: {commit.hash}\")\n",
    "        print(\"---\")"
   ]
  },
  {
   "cell_type": "markdown",
   "metadata": {},
   "source": [
    "## Author history"
   ]
  },
  {
   "cell_type": "markdown",
   "metadata": {},
   "source": [
    "This particular operation was more difficult with pydriller, so we use the gitpython object available through PyDriller's GitRepository object. \n",
    "\n",
    "Otherwise, this code basically copied verbatim from the Workshop demo. \n"
   ]
  },
  {
   "cell_type": "code",
   "execution_count": 11,
   "metadata": {},
   "outputs": [
    {
     "name": "stdout",
     "output_type": "stream",
     "text": [
      "   Commit           Author\n",
      "0    1066  Gary D. Gregory\n",
      "1     659      Ralph Goers\n",
      "2     168           rpopma\n",
      "3     107     nickwilliams\n",
      "4      66       mattsicker\n"
     ]
    },
    {
     "data": {
      "text/plain": [
       "<AxesSubplot:xlabel='Commit', ylabel='Author'>"
      ]
     },
     "execution_count": 11,
     "metadata": {},
     "output_type": "execute_result"
    },
    {
     "data": {
      "image/png": "[encoded data removed]",
      "text/plain": [
       "<Figure size 432x288 with 1 Axes>"
      ]
     },
     "metadata": {
      "needs_background": "light"
     },
     "output_type": "display_data"
    }
   ],
   "source": [
    "repo = gr.repo\n",
    "commit_authors = repo.git.shortlog(\"-n\", \"-s\", VCC_COMMIT).splitlines()\n",
    "author_commits = []\n",
    "\n",
    "for commit_author in commit_authors:\n",
    "    commit, author = commit_author.split(\"\\t\")\n",
    "    author_commits.append([int(commit), author])\n",
    "df = pd.DataFrame(author_commits, columns=['Commit', 'Author'])\n",
    "print(df.head())\n",
    "sns.barplot(y='Author', x=\"Commit\", data=df)"
   ]
  },
  {
   "cell_type": "markdown",
   "metadata": {},
   "source": [
    "# Q3\n",
    "\n",
    "We now return to Q3. "
   ]
  },
  {
   "cell_type": "code",
   "execution_count": 12,
   "metadata": {},
   "outputs": [
    {
     "name": "stdout",
     "output_type": "stream",
     "text": [
      "AbstractSocketServer.java\n",
      "ObjectInputStreamLogEventBridge.java\n",
      "TcpSocketServer.java\n",
      "UdpSocketServer.java\n",
      "FilteredObjectInputStream.java\n"
     ]
    }
   ],
   "source": [
    "# First list the files changed\n",
    "for c in  fixing_commit.modifications:\n",
    "    print(c.filename)"
   ]
  },
  {
   "cell_type": "code",
   "execution_count": 13,
   "metadata": {},
   "outputs": [],
   "source": [
    "# Choose the file ObjectInputStreamLogEventBridge.java from our PDF report\n",
    "# Get the modifications to our chosen file\n",
    "files = [m for m in fixing_commit.modifications if m.filename==\"ObjectInputStreamLogEventBridge.java\"]\n",
    "# Make sure the filter only finds one file\n",
    "assert len(files)==1\n",
    "fixing_modification = files[0]\n",
    "# Just another assertion to make sure our code is working properly\n",
    "assert fixing_modification.change_type == ModificationType.MODIFY\n",
    "diffs = fixing_modification.diff_parsed"
   ]
  },
  {
   "cell_type": "code",
   "execution_count": 14,
   "metadata": {},
   "outputs": [
    {
     "name": "stdout",
     "output_type": "stream",
     "text": [
      "Dodgy commits from deleted lines: ['5a80ae1c7cb69204912ef104201d3a5e3f2856e3', 'e2fcc90ef6749447b1eed5bd1defa76cd497d58a']\n"
     ]
    }
   ],
   "source": [
    "dodgy_commits_dl = []  # Collect dodgy commits from deleted lines\n",
    "# Handle deleted lines first\n",
    "# Run blame on the parent of the FIXING_COMMIT commit\n",
    "prev_blame = gr.repo.blame(f\"{FIXING_COMMIT}^\", file=fixing_modification.old_path)\n",
    "commits = [] # Each index corresponds to a line number\n",
    "for blame in prev_blame:\n",
    "    for line in blame[1]:\n",
    "        commits.append(blame[0].hexsha)\n",
    "for diff in diffs[\"deleted\"]:\n",
    "    line_number = diff[0]\n",
    "    commit = commits[line_number]\n",
    "    dodgy_commits_dl.append(commit)\n",
    "print(f\"Dodgy commits from deleted lines: {dodgy_commits_dl}\")"
   ]
  },
  {
   "cell_type": "code",
   "execution_count": 15,
   "metadata": {},
   "outputs": [
    {
     "name": "stdout",
     "output_type": "stream",
     "text": [
      "Dodgy commits from added lines: ['f0781690f7e9ee1bf6344093c1edaf53191d0d52']\n"
     ]
    }
   ],
   "source": [
    "dodgy_commits_al = []  # Collect dodgy commits from added lines\n",
    "# Now look at added lines\n",
    "# Choosing the scope to be the wrapStream function, as per the report.\n",
    "diff = gr.repo.git.log(FIXING_COMMIT, \"-L\", f\":wrapStream:{fixing_modification.new_path}\")\n",
    "diff_hashes = [line.replace(\"commit \", \"\") for line in diff.split('\\n') if \"commit\" in line]\n",
    "# We take the most recent, as per our report\n",
    "dodgy_commits_al.append(diff_hashes[1])\n",
    "print(f\"Dodgy commits from added lines: {dodgy_commits_al}\")"
   ]
  },
  {
   "cell_type": "markdown",
   "metadata": {},
   "source": [
    "We see that, in total, three possible VCC commits are identified with equal frequency. The commit we identified in our report (e2fcc90) is present. "
   ]
  },
  {
   "cell_type": "markdown",
   "metadata": {},
   "source": [
    "## A different approach\n",
    "The PyDriller library has a function get_commits_last_modified_lines which applies the SZZ algorithm to `returns the set of commits that last “touched” the lines that are modified in the files included in the commit`"
   ]
  },
  {
   "cell_type": "code",
   "execution_count": 16,
   "metadata": {},
   "outputs": [
    {
     "name": "stdout",
     "output_type": "stream",
     "text": [
      "['e2fcc90ef6749447b1eed5bd1defa76cd497d58a', '5e48367f9075a5672cac247f74434295e58459f6']\n"
     ]
    }
   ],
   "source": [
    "commit = gr.get_commit(FIXING_COMMIT)\n",
    "buggy_commits_by_file = gr.get_commits_last_modified_lines(commit)\n",
    "buggy_commits = list(buggy_commits_by_file[\"log4j-core/src/main/java/org/apache/logging/log4j/core/net/server/ObjectInputStreamLogEventBridge.java\"])\n",
    "print(buggy_commits)\n"
   ]
  },
  {
   "cell_type": "markdown",
   "metadata": {},
   "source": [
    "We see that the first commit is the one we identified in our report. \n",
    "But`5e4836` is new and was not identified in our earlier analysis. \n",
    "Let's take a look. "
   ]
  },
  {
   "cell_type": "code",
   "execution_count": 17,
   "metadata": {},
   "outputs": [],
   "source": [
    "c = next(RepositoryMining(REPO_PATH, single=\"5e4836\").traverse_commits())"
   ]
  },
  {
   "cell_type": "code",
   "execution_count": 18,
   "metadata": {},
   "outputs": [
    {
     "name": "stdout",
     "output_type": "stream",
     "text": [
      "Gary D. Gregory\n",
      "2014-05-13 17:36:12+00:00\n",
      "The commit has interdependent changes for:\n",
      "- [LOG4J2-634] ThrowableProxy ctor throws an exception when using suppressed exceptions.\n",
      "- [LOG4J2-584] TCP and UDP socket servers should be able to handle JSON log events\n",
      "- [LOG4J2-583] TCP and UDP socket servers should be able to handle XML log events\n",
      "General:\n",
      "- The Jackson code is 100% non-intrusive to the API and Core types. Jackson mix-ins are used for all IO specifications.\n",
      "Details for log4j-api:\n",
      "- Log4jMarker is public so it can be accessed Jackson XML and JSON IO code.\n",
      "Details for log4j-core:\n",
      "- The POM now depends on the JSON and XML databindings. Note that the runtime only needs Jackson if the JSON or XML layout or listeners are used.\n",
      "- The class StackTracePackageElement has been renamed ExtendedStackTraceElement and tracks the StackTraceElement it conceptually extends. StackTraceElement is a final JRE class so we use composition. This allows (de)serialization to deal with the extended stack trace in a more OO and simple manner.\n",
      "- The ThrowableProxy has been reworked to (de)serialize easly. It now tracks the suppressed exceptions of its Throwable.\n",
      "- The XML and JSON layouts also use the same Jackson XML/JSON IO specifications. Both sides of the IO are in sync! \n",
      "- There are unit tests of course.\n",
      "- org.apache.logging.log4j.core.LogEventListener.log(LogEvent) is now public.\n",
      "\n",
      "\n",
      "git-svn-id: https://svn.apache.org/repos/asf/logging/log4j/log4j2/trunk@1594294 13f79535-47bb-0310-9956-ffa450edef68\n",
      "{'added': [(17, 'package org.apache.logging.log4j.core.net.server;'),\n",
      "           (24, 'import org.apache.logging.log4j.core.LogEventListener;'),\n",
      "           (27,\n",
      "            ' * Reads and logs serialized {@link LogEvent} objects from an '\n",
      "            '{@link ObjectInputStream}.'),\n",
      "           (29,\n",
      "            'public class ObjectInputStreamLogEventBridge extends '\n",
      "            'AbstractLogEventBridge<ObjectInputStream> {'),\n",
      "           (32,\n",
      "            '    public void logEvents(final ObjectInputStream inputStream, '\n",
      "            'final LogEventListener logEventListener)'),\n",
      "           (33, '            throws IOException {'),\n",
      "           (35,\n",
      "            '            logEventListener.log((LogEvent) '\n",
      "            'inputStream.readObject());')],\n",
      " 'deleted': [(17, 'package org.apache.logging.log4j.core.net;'),\n",
      "             (26, ' * Reads serialized {@link LogEvent}s.'),\n",
      "             (28,\n",
      "              'public class SerializedLogEventInput extends '\n",
      "              'AbstractLogEventInput<ObjectInputStream> {'),\n",
      "             (31,\n",
      "              '    public LogEvent readLogEvent(final ObjectInputStream '\n",
      "              'inputStream) throws IOException {'),\n",
      "             (33, '            return (LogEvent) inputStream.readObject();')]}\n"
     ]
    }
   ],
   "source": [
    "print(c.author.name)\n",
    "print(c.author_date)\n",
    "print(c.msg)\n",
    "files = [m for m in c.modifications if m.filename==\"ObjectInputStreamLogEventBridge.java\"]\n",
    "pprint(files[0].diff_parsed)"
   ]
  },
  {
   "cell_type": "markdown",
   "metadata": {},
   "source": [
    "This occurs over two weeks earlier than the VCC we identified in our report. "
   ]
  },
  {
   "cell_type": "code",
   "execution_count": null,
   "metadata": {},
   "outputs": [],
   "source": []
  }
 ],
 "metadata": {
  "kernelspec": {
   "display_name": "Python 3",
   "language": "python",
   "name": "python3"
  },
  "language_info": {
   "codemirror_mode": {
    "name": "ipython",
    "version": 3
   },
   "file_extension": ".py",
   "mimetype": "text/x-python",
   "name": "python",
   "nbconvert_exporter": "python",
   "pygments_lexer": "ipython3",
   "version": "3.7.7"
  }
 },
 "nbformat": 4,
 "nbformat_minor": 4
}
